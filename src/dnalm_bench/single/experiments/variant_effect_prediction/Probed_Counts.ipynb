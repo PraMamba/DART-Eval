{
 "cells": [
  {
   "cell_type": "code",
   "execution_count": 4,
   "id": "cad22ded",
   "metadata": {},
   "outputs": [],
   "source": [
    "import pandas as pd\n",
    "import glob\n",
    "import os\n",
    "from sklearn.metrics import average_precision_score, precision_recall_curve, auc\n",
    "from sklearn.metrics import roc_auc_score, roc_curve\n",
    "import matplotlib.pyplot as plt\n",
    "import numpy as np\n",
    "from scipy.stats import pearsonr, spearmanr\n",
    "from scipy.stats import mannwhitneyu"
   ]
  },
  {
   "cell_type": "code",
   "execution_count": 5,
   "id": "fec838ab",
   "metadata": {},
   "outputs": [],
   "source": [
    "from variant_tasks import *"
   ]
  },
  {
   "cell_type": "markdown",
   "id": "818c5939",
   "metadata": {},
   "source": [
    "## Nucleotide Transformer"
   ]
  },
  {
   "cell_type": "code",
   "execution_count": 6,
   "id": "0e7703a7",
   "metadata": {},
   "outputs": [],
   "source": [
    "model_name=\"nucleotide-transformer-v2-500m-multi-species\"\n",
    "model=\"Nucleotide Transformer\""
   ]
  },
  {
   "cell_type": "code",
   "execution_count": 7,
   "id": "f1d8584e",
   "metadata": {},
   "outputs": [
    {
     "name": "stdout",
     "output_type": "stream",
     "text": [
      "(156730, 29)\n"
     ]
    },
    {
     "ename": "KeyError",
     "evalue": "'allele2'",
     "output_type": "error",
     "traceback": [
      "\u001b[0;31m---------------------------------------------------------------------------\u001b[0m",
      "\u001b[0;31mKeyError\u001b[0m                                  Traceback (most recent call last)",
      "\u001b[0;32m~/.local/lib/python3.9/site-packages/pandas/core/indexes/base.py\u001b[0m in \u001b[0;36mget_loc\u001b[0;34m(self, key)\u001b[0m\n\u001b[1;32m   3789\u001b[0m         \u001b[0;32mtry\u001b[0m\u001b[0;34m:\u001b[0m\u001b[0;34m\u001b[0m\u001b[0;34m\u001b[0m\u001b[0m\n\u001b[0;32m-> 3790\u001b[0;31m             \u001b[0;32mreturn\u001b[0m \u001b[0mself\u001b[0m\u001b[0;34m.\u001b[0m\u001b[0m_engine\u001b[0m\u001b[0;34m.\u001b[0m\u001b[0mget_loc\u001b[0m\u001b[0;34m(\u001b[0m\u001b[0mcasted_key\u001b[0m\u001b[0;34m)\u001b[0m\u001b[0;34m\u001b[0m\u001b[0;34m\u001b[0m\u001b[0m\n\u001b[0m\u001b[1;32m   3791\u001b[0m         \u001b[0;32mexcept\u001b[0m \u001b[0mKeyError\u001b[0m \u001b[0;32mas\u001b[0m \u001b[0merr\u001b[0m\u001b[0;34m:\u001b[0m\u001b[0;34m\u001b[0m\u001b[0;34m\u001b[0m\u001b[0m\n",
      "\u001b[0;32mindex.pyx\u001b[0m in \u001b[0;36mpandas._libs.index.IndexEngine.get_loc\u001b[0;34m()\u001b[0m\n",
      "\u001b[0;32mindex.pyx\u001b[0m in \u001b[0;36mpandas._libs.index.IndexEngine.get_loc\u001b[0;34m()\u001b[0m\n",
      "\u001b[0;32mpandas/_libs/hashtable_class_helper.pxi\u001b[0m in \u001b[0;36mpandas._libs.hashtable.PyObjectHashTable.get_item\u001b[0;34m()\u001b[0m\n",
      "\u001b[0;32mpandas/_libs/hashtable_class_helper.pxi\u001b[0m in \u001b[0;36mpandas._libs.hashtable.PyObjectHashTable.get_item\u001b[0;34m()\u001b[0m\n",
      "\u001b[0;31mKeyError\u001b[0m: 'allele2'",
      "\nThe above exception was the direct cause of the following exception:\n",
      "\u001b[0;31mKeyError\u001b[0m                                  Traceback (most recent call last)",
      "\u001b[0;32m/tmp/ipykernel_21980/1369586439.py\u001b[0m in \u001b[0;36m<module>\u001b[0;34m\u001b[0m\n\u001b[0;32m----> 1\u001b[0;31m \u001b[0mctrl_counts\u001b[0m\u001b[0;34m,\u001b[0m \u001b[0msig_counts\u001b[0m\u001b[0;34m,\u001b[0m \u001b[0mfiltered_var_eu_caQTLs_df\u001b[0m \u001b[0;34m=\u001b[0m \u001b[0msig_ctrl_variants_Eu_CaQTLs_probed_counts\u001b[0m\u001b[0;34m(\u001b[0m\u001b[0;34mf\"/oak/stanford/groups/akundaje/projects/dnalm_benchmark/variants/probing/{model_name}/GM12878/Eu.CaQTLS.counts.tsv\"\u001b[0m\u001b[0;34m)\u001b[0m\u001b[0;34m\u001b[0m\u001b[0;34m\u001b[0m\u001b[0m\n\u001b[0m\u001b[1;32m      2\u001b[0m \u001b[0mnt_eur_stat\u001b[0m\u001b[0;34m,\u001b[0m \u001b[0mnt_eur_pval\u001b[0m \u001b[0;34m=\u001b[0m \u001b[0mmannwhitneyu\u001b[0m\u001b[0;34m(\u001b[0m\u001b[0mctrl_counts\u001b[0m\u001b[0;34m,\u001b[0m \u001b[0msig_counts\u001b[0m\u001b[0;34m,\u001b[0m \u001b[0malternative\u001b[0m\u001b[0;34m=\u001b[0m\u001b[0;34m\"less\"\u001b[0m\u001b[0;34m)\u001b[0m\u001b[0;34m\u001b[0m\u001b[0;34m\u001b[0m\u001b[0m\n\u001b[1;32m      3\u001b[0m \u001b[0mnt_eur_stat\u001b[0m\u001b[0;34m,\u001b[0m \u001b[0mnt_eur_pval\u001b[0m\u001b[0;34m\u001b[0m\u001b[0;34m\u001b[0m\u001b[0m\n",
      "\u001b[0;32m/oak/stanford/groups/akundaje/arpitas/chrombench/src/dnalm_bench/single/experiments/variant_effect_prediction/variant_tasks.py\u001b[0m in \u001b[0;36msig_ctrl_variants_Eu_CaQTLs_probed_counts\u001b[0;34m(counts_data_path)\u001b[0m\n\u001b[1;32m    176\u001b[0m     \u001b[0mprint\u001b[0m\u001b[0;34m(\u001b[0m\u001b[0mfiltered_var_eu_caQTLs_df\u001b[0m\u001b[0;34m.\u001b[0m\u001b[0mshape\u001b[0m\u001b[0;34m)\u001b[0m\u001b[0;34m\u001b[0m\u001b[0;34m\u001b[0m\u001b[0m\n\u001b[1;32m    177\u001b[0m \u001b[0;34m\u001b[0m\u001b[0m\n\u001b[0;32m--> 178\u001b[0;31m     \u001b[0mfiltered_var_eu_caQTLs_df\u001b[0m\u001b[0;34m[\u001b[0m\u001b[0;34m\"llm_logfc\"\u001b[0m\u001b[0;34m]\u001b[0m \u001b[0;34m=\u001b[0m \u001b[0mfiltered_var_eu_caQTLs_df\u001b[0m\u001b[0;34m[\u001b[0m\u001b[0;34m\"allele2\"\u001b[0m\u001b[0;34m]\u001b[0m \u001b[0;34m-\u001b[0m \u001b[0mfiltered_var_eu_caQTLs_df\u001b[0m\u001b[0;34m[\u001b[0m\u001b[0;34m\"allele1\"\u001b[0m\u001b[0;34m]\u001b[0m\u001b[0;34m\u001b[0m\u001b[0;34m\u001b[0m\u001b[0m\n\u001b[0m\u001b[1;32m    179\u001b[0m \u001b[0;34m\u001b[0m\u001b[0m\n\u001b[1;32m    180\u001b[0m     \u001b[0mfiltered_var_eucaqtls_df_ctrl\u001b[0m \u001b[0;34m=\u001b[0m \u001b[0mfiltered_var_eu_caQTLs_df\u001b[0m\u001b[0;34m[\u001b[0m\u001b[0mfiltered_var_eu_caQTLs_df\u001b[0m\u001b[0;34m[\u001b[0m\u001b[0;34m\"Log10_BF\"\u001b[0m\u001b[0;34m]\u001b[0m\u001b[0;34m<\u001b[0m\u001b[0;34m-\u001b[0m\u001b[0;36m1\u001b[0m\u001b[0;34m]\u001b[0m\u001b[0;34m.\u001b[0m\u001b[0mcopy\u001b[0m\u001b[0;34m(\u001b[0m\u001b[0mdeep\u001b[0m\u001b[0;34m=\u001b[0m\u001b[0;32mTrue\u001b[0m\u001b[0;34m)\u001b[0m\u001b[0;34m\u001b[0m\u001b[0;34m\u001b[0m\u001b[0m\n",
      "\u001b[0;32m~/.local/lib/python3.9/site-packages/pandas/core/frame.py\u001b[0m in \u001b[0;36m__getitem__\u001b[0;34m(self, key)\u001b[0m\n\u001b[1;32m   3894\u001b[0m             \u001b[0;32mif\u001b[0m \u001b[0mself\u001b[0m\u001b[0;34m.\u001b[0m\u001b[0mcolumns\u001b[0m\u001b[0;34m.\u001b[0m\u001b[0mnlevels\u001b[0m \u001b[0;34m>\u001b[0m \u001b[0;36m1\u001b[0m\u001b[0;34m:\u001b[0m\u001b[0;34m\u001b[0m\u001b[0;34m\u001b[0m\u001b[0m\n\u001b[1;32m   3895\u001b[0m                 \u001b[0;32mreturn\u001b[0m \u001b[0mself\u001b[0m\u001b[0;34m.\u001b[0m\u001b[0m_getitem_multilevel\u001b[0m\u001b[0;34m(\u001b[0m\u001b[0mkey\u001b[0m\u001b[0;34m)\u001b[0m\u001b[0;34m\u001b[0m\u001b[0;34m\u001b[0m\u001b[0m\n\u001b[0;32m-> 3896\u001b[0;31m             \u001b[0mindexer\u001b[0m \u001b[0;34m=\u001b[0m \u001b[0mself\u001b[0m\u001b[0;34m.\u001b[0m\u001b[0mcolumns\u001b[0m\u001b[0;34m.\u001b[0m\u001b[0mget_loc\u001b[0m\u001b[0;34m(\u001b[0m\u001b[0mkey\u001b[0m\u001b[0;34m)\u001b[0m\u001b[0;34m\u001b[0m\u001b[0;34m\u001b[0m\u001b[0m\n\u001b[0m\u001b[1;32m   3897\u001b[0m             \u001b[0;32mif\u001b[0m \u001b[0mis_integer\u001b[0m\u001b[0;34m(\u001b[0m\u001b[0mindexer\u001b[0m\u001b[0;34m)\u001b[0m\u001b[0;34m:\u001b[0m\u001b[0;34m\u001b[0m\u001b[0;34m\u001b[0m\u001b[0m\n\u001b[1;32m   3898\u001b[0m                 \u001b[0mindexer\u001b[0m \u001b[0;34m=\u001b[0m \u001b[0;34m[\u001b[0m\u001b[0mindexer\u001b[0m\u001b[0;34m]\u001b[0m\u001b[0;34m\u001b[0m\u001b[0;34m\u001b[0m\u001b[0m\n",
      "\u001b[0;32m~/.local/lib/python3.9/site-packages/pandas/core/indexes/base.py\u001b[0m in \u001b[0;36mget_loc\u001b[0;34m(self, key)\u001b[0m\n\u001b[1;32m   3795\u001b[0m             ):\n\u001b[1;32m   3796\u001b[0m                 \u001b[0;32mraise\u001b[0m \u001b[0mInvalidIndexError\u001b[0m\u001b[0;34m(\u001b[0m\u001b[0mkey\u001b[0m\u001b[0;34m)\u001b[0m\u001b[0;34m\u001b[0m\u001b[0;34m\u001b[0m\u001b[0m\n\u001b[0;32m-> 3797\u001b[0;31m             \u001b[0;32mraise\u001b[0m \u001b[0mKeyError\u001b[0m\u001b[0;34m(\u001b[0m\u001b[0mkey\u001b[0m\u001b[0;34m)\u001b[0m \u001b[0;32mfrom\u001b[0m \u001b[0merr\u001b[0m\u001b[0;34m\u001b[0m\u001b[0;34m\u001b[0m\u001b[0m\n\u001b[0m\u001b[1;32m   3798\u001b[0m         \u001b[0;32mexcept\u001b[0m \u001b[0mTypeError\u001b[0m\u001b[0;34m:\u001b[0m\u001b[0;34m\u001b[0m\u001b[0;34m\u001b[0m\u001b[0m\n\u001b[1;32m   3799\u001b[0m             \u001b[0;31m# If we have a listlike key, _check_indexing_error will raise\u001b[0m\u001b[0;34m\u001b[0m\u001b[0;34m\u001b[0m\u001b[0;34m\u001b[0m\u001b[0m\n",
      "\u001b[0;31mKeyError\u001b[0m: 'allele2'"
     ]
    }
   ],
   "source": [
    "ctrl_counts, sig_counts, filtered_var_eu_caQTLs_df = sig_ctrl_variants_Eu_CaQTLs_probed_counts(f\"/oak/stanford/groups/akundaje/projects/dnalm_benchmark/variants/probing/{model_name}/GM12878/Eu.CaQTLS.counts.tsv\")\n",
    "nt_eur_stat, nt_eur_pval = mannwhitneyu(ctrl_counts, sig_counts, alternative=\"less\")\n",
    "nt_eur_stat, nt_eur_pval"
   ]
  },
  {
   "cell_type": "code",
   "execution_count": 8,
   "id": "5d47eb19",
   "metadata": {},
   "outputs": [
    {
     "name": "stdout",
     "output_type": "stream",
     "text": [
      "(18071, 29)\n",
      "11982 1402\n"
     ]
    },
    {
     "data": {
      "text/plain": [
       "(8277769.0, 0.1871559718218378)"
      ]
     },
     "execution_count": 8,
     "metadata": {},
     "output_type": "execute_result"
    }
   ],
   "source": [
    "ctrl_counts, sig_counts, filtered_var_eu_caQTLs_df = sig_ctrl_variants_Eu_CaQTLs_probed_counts(f\"/oak/stanford/groups/akundaje/projects/dnalm_benchmark/variants/probing/{model_name}/GM12878/Eu.CaQTLsae.2000.counts.tsv\")\n",
    "nt_eur_stat, nt_eur_pval = mannwhitneyu(ctrl_counts, sig_counts, alternative=\"less\")\n",
    "nt_eur_stat, nt_eur_pval"
   ]
  },
  {
   "cell_type": "code",
   "execution_count": null,
   "id": "0c0bc2c9",
   "metadata": {},
   "outputs": [],
   "source": [
    "data = [ctrl_counts, sig_counts]\n",
    "\n",
    "# Create the boxplot\n",
    "plt.boxplot(data)\n",
    "\n",
    "# Customizing the plot\n",
    "plt.xticks([1, 2], ['Control', 'Significant']) \n",
    "plt.ylabel('Value') \n",
    "plt.title(f'Control vs. Significant for {model} Eu CaQTLs')  \n",
    "plt.show()"
   ]
  },
  {
   "cell_type": "code",
   "execution_count": null,
   "id": "db4dd2c9",
   "metadata": {},
   "outputs": [],
   "source": [
    "threshold = 3\n",
    "filtered_var_eucaqtls_df_sig = filtered_var_eu_caQTLs_df[filtered_var_eu_caQTLs_df[\"Log10_BF\"]>threshold].copy(deep=True)\n",
    "beta_logfc(filtered_var_eucaqtls_df_sig, f\"{model} European Significant caQTLs\")"
   ]
  },
  {
   "cell_type": "code",
   "execution_count": null,
   "id": "15041871",
   "metadata": {},
   "outputs": [],
   "source": [
    "ctrl_afr, sig_afr, filtered_var_afr_caQTLs_df = sig_ctrl_variants_Afr_CaQTLs_probed_counts(f\"/oak/stanford/groups/akundaje/projects/dnalm_benchmark/variants/probing/{model_name}/GM12878/Afr.CaQTLS.counts.tsv\")\n",
    "nt_afr_stat, nt_afr_pval = mannwhitneyu(ctrl_afr, sig_afr, alternative=\"less\")\n",
    "nt_afr_stat, nt_afr_pval"
   ]
  },
  {
   "cell_type": "code",
   "execution_count": null,
   "id": "fc0350e8",
   "metadata": {},
   "outputs": [],
   "source": [
    "data = [ctrl_afr, sig_afr]\n",
    "\n",
    "# Create the boxplot\n",
    "plt.boxplot(data)\n",
    "\n",
    "# Customizing the plot\n",
    "plt.xticks([1, 2], ['Control', 'Significant']) \n",
    "plt.ylabel('Value') \n",
    "plt.title(f'Control vs. Significant for {model} Afr CaQTLs')  \n",
    "plt.show()"
   ]
  },
  {
   "cell_type": "code",
   "execution_count": null,
   "id": "d6288baf",
   "metadata": {},
   "outputs": [],
   "source": [
    "filtered_var_afrcaqtls_df_sig = filtered_var_afr_caQTLs_df[filtered_var_afr_caQTLs_df[\"label\"]==1]\n",
    "\n",
    "beta_logfc(filtered_var_afrcaqtls_df_sig, f\"{model} African Significant caQTLs\")"
   ]
  },
  {
   "cell_type": "code",
   "execution_count": null,
   "id": "8c2a2a25",
   "metadata": {},
   "outputs": [],
   "source": [
    "afr_asb = variants_Afr_ASB_CaQTLs_probed_counts(f\"/oak/stanford/groups/akundaje/projects/dnalm_benchmark/variants/probing/{model_name}/GM12878/Afr.ASB.CaQTLS.counts.tsv\")\n",
    "effect_size_logfc(afr_asb, f\"{model} African ASB caQTLs\")"
   ]
  },
  {
   "cell_type": "code",
   "execution_count": null,
   "id": "7eb368e0",
   "metadata": {
    "scrolled": false
   },
   "outputs": [],
   "source": [
    "df = pd.read_csv(f\"/oak/stanford/groups/akundaje/projects/dnalm_benchmark/variants/probing/{model_name}/GM12878/gm12878.dsqtls.benchmarking.counts.tsv\", sep=\"\\t\")\n",
    "df = pd.read_csv(\"/oak/stanford/groups/akundaje/anusri/variant-benchmakring/gm12878.dsqtls.benchmarking.tsv\", sep=\"\\t\")\n",
    "df[df[\"var.isused\"]]"
   ]
  },
  {
   "cell_type": "markdown",
   "id": "b11d409e",
   "metadata": {},
   "source": [
    "## DNABert2"
   ]
  },
  {
   "cell_type": "code",
   "execution_count": null,
   "id": "d325e7a3",
   "metadata": {},
   "outputs": [],
   "source": [
    "model_name=\"DNABERT-2-117M\"\n",
    "model=\"DNABert2\""
   ]
  },
  {
   "cell_type": "code",
   "execution_count": null,
   "id": "39d69261",
   "metadata": {},
   "outputs": [],
   "source": [
    "ctrl_counts, sig_counts, filtered_var_eu_caQTLs_df = sig_ctrl_variants_Eu_CaQTLs_probed_counts(f\"/oak/stanford/groups/akundaje/projects/dnalm_benchmark/variants/probing/{model_name}/GM12878/Eu.CaQTLS.counts.tsv\")\n",
    "db_eur_stat, db_eur_pval = mannwhitneyu(ctrl_counts, sig_counts, alternative=\"less\")\n",
    "db_eur_stat, db_eur_pval"
   ]
  },
  {
   "cell_type": "code",
   "execution_count": null,
   "id": "18647dd3",
   "metadata": {},
   "outputs": [],
   "source": [
    "data = [ctrl_counts, sig_counts]\n",
    "\n",
    "# Create the boxplot\n",
    "plt.boxplot(data)\n",
    "\n",
    "# Customizing the plot\n",
    "plt.xticks([1, 2], ['Control', 'Significant']) \n",
    "plt.ylabel('Value') \n",
    "plt.title(f'Control vs. Significant for {model} Eu CaQTLs')  \n",
    "plt.show()"
   ]
  },
  {
   "cell_type": "code",
   "execution_count": null,
   "id": "44ed8d84",
   "metadata": {},
   "outputs": [],
   "source": [
    "threshold = 3\n",
    "filtered_var_eucaqtls_df_sig = filtered_var_eu_caQTLs_df[filtered_var_eu_caQTLs_df[\"Log10_BF\"]>threshold].copy(deep=True)\n",
    "beta_logfc(filtered_var_eucaqtls_df_sig, f\"{model} European Significant caQTLs\")"
   ]
  },
  {
   "cell_type": "code",
   "execution_count": null,
   "id": "ccb5e314",
   "metadata": {},
   "outputs": [],
   "source": [
    "ctrl_afr, sig_afr, filtered_var_afr_caQTLs_df = sig_ctrl_variants_Afr_CaQTLs_probed_counts(f\"/oak/stanford/groups/akundaje/projects/dnalm_benchmark/variants/probing/{model_name}/GM12878/Afr.CaQTLS.counts.tsv\")\n",
    "db_afr_stat, db_afr_pval = mannwhitneyu(ctrl_afr, sig_afr, alternative=\"less\")\n",
    "db_afr_stat, db_afr_pval"
   ]
  },
  {
   "cell_type": "code",
   "execution_count": null,
   "id": "02478a98",
   "metadata": {},
   "outputs": [],
   "source": [
    "data = [ctrl_afr, sig_afr]\n",
    "\n",
    "# Create the boxplot\n",
    "plt.boxplot(data)\n",
    "\n",
    "# Customizing the plot\n",
    "plt.xticks([1, 2], ['Control', 'Significant']) \n",
    "plt.ylabel('Value') \n",
    "plt.title(f'Control vs. Significant for {model} Afr CaQTLs')  \n",
    "plt.show()"
   ]
  },
  {
   "cell_type": "code",
   "execution_count": null,
   "id": "b08c3e2e",
   "metadata": {},
   "outputs": [],
   "source": [
    "filtered_var_afrcaqtls_df_sig = filtered_var_afr_caQTLs_df[filtered_var_afr_caQTLs_df[\"label\"]==1]\n",
    "\n",
    "beta_logfc(filtered_var_afrcaqtls_df_sig, f\"{model} African Significant caQTLs\")"
   ]
  },
  {
   "cell_type": "code",
   "execution_count": null,
   "id": "5f9629c3",
   "metadata": {},
   "outputs": [],
   "source": [
    "afr_asb = variants_Afr_ASB_CaQTLs_probed_counts(f\"/oak/stanford/groups/akundaje/projects/dnalm_benchmark/variants/probing/{model_name}/GM12878/Afr.ASB.CaQTLS.counts.tsv\")\n",
    "effect_size_logfc(afr_asb, f\"{model} African ASB caQTLs\")"
   ]
  },
  {
   "cell_type": "markdown",
   "id": "8c9c35af",
   "metadata": {},
   "source": [
    "## Gena LM"
   ]
  },
  {
   "cell_type": "code",
   "execution_count": null,
   "id": "465d42e2",
   "metadata": {},
   "outputs": [],
   "source": [
    "model_name=\"gena-lm-bert-large-t2t\"\n",
    "model=\"Gena LM\""
   ]
  },
  {
   "cell_type": "code",
   "execution_count": null,
   "id": "b6098cab",
   "metadata": {},
   "outputs": [],
   "source": [
    "ctrl_counts, sig_counts, filtered_var_eu_caQTLs_df = sig_ctrl_variants_Eu_CaQTLs_probed_counts(f\"/oak/stanford/groups/akundaje/projects/dnalm_benchmark/variants/probing/{model_name}/GM12878/Eu.CaQTLS.counts.tsv\")\n",
    "glm_eur_stat, glm_eur_pval = mannwhitneyu(ctrl_counts, sig_counts, alternative=\"less\")\n",
    "glm_eur_stat, glm_eur_pval"
   ]
  },
  {
   "cell_type": "code",
   "execution_count": null,
   "id": "375bba84",
   "metadata": {},
   "outputs": [],
   "source": [
    "data = [ctrl_counts, sig_counts]\n",
    "\n",
    "# Create the boxplot\n",
    "plt.boxplot(data)\n",
    "\n",
    "# Customizing the plot\n",
    "plt.xticks([1, 2], ['Control', 'Significant']) \n",
    "plt.ylabel('Value') \n",
    "plt.title(f'Control vs. Significant for {model} Eu CaQTLs')  \n",
    "plt.show()"
   ]
  },
  {
   "cell_type": "code",
   "execution_count": null,
   "id": "6b065750",
   "metadata": {},
   "outputs": [],
   "source": [
    "threshold = 3\n",
    "filtered_var_eucaqtls_df_sig = filtered_var_eu_caQTLs_df[filtered_var_eu_caQTLs_df[\"Log10_BF\"]>threshold].copy(deep=True)\n",
    "beta_logfc(filtered_var_eucaqtls_df_sig, f\"{model} European Significant caQTLs\")"
   ]
  },
  {
   "cell_type": "code",
   "execution_count": null,
   "id": "c67c2199",
   "metadata": {},
   "outputs": [],
   "source": [
    "ctrl_afr, sig_afr, filtered_var_afr_caQTLs_df = sig_ctrl_variants_Afr_CaQTLs_probed_counts(f\"/oak/stanford/groups/akundaje/projects/dnalm_benchmark/variants/probing/{model_name}/GM12878/Afr.CaQTLS.counts.tsv\")\n",
    "glm_afr_stat, glm_afr_pval = mannwhitneyu(ctrl_afr, sig_afr, alternative=\"less\")\n",
    "glm_afr_stat, glm_afr_pval"
   ]
  },
  {
   "cell_type": "code",
   "execution_count": null,
   "id": "35234418",
   "metadata": {},
   "outputs": [],
   "source": [
    "data = [ctrl_afr, sig_afr]\n",
    "\n",
    "# Create the boxplot\n",
    "plt.boxplot(data)\n",
    "\n",
    "# Customizing the plot\n",
    "plt.xticks([1, 2], ['Control', 'Significant']) \n",
    "plt.ylabel('Value') \n",
    "plt.title(f'Control vs. Significant for {model} Afr CaQTLs')  \n",
    "plt.show()"
   ]
  },
  {
   "cell_type": "code",
   "execution_count": null,
   "id": "dbb6d4bd",
   "metadata": {},
   "outputs": [],
   "source": [
    "filtered_var_afrcaqtls_df_sig = filtered_var_afr_caQTLs_df[filtered_var_afr_caQTLs_df[\"label\"]==1]\n",
    "\n",
    "beta_logfc(filtered_var_afrcaqtls_df_sig, f\"{model} African Significant caQTLs\")"
   ]
  },
  {
   "cell_type": "code",
   "execution_count": null,
   "id": "6039fd74",
   "metadata": {},
   "outputs": [],
   "source": [
    "afr_asb = variants_Afr_ASB_CaQTLs_probed_counts(f\"/oak/stanford/groups/akundaje/projects/dnalm_benchmark/variants/probing/{model_name}/GM12878/Afr.ASB.CaQTLS.counts.tsv\")\n",
    "effect_size_logfc(afr_asb, f\"{model} African ASB caQTLs\")"
   ]
  },
  {
   "cell_type": "markdown",
   "id": "99546451",
   "metadata": {},
   "source": [
    "## HyenaDNA"
   ]
  },
  {
   "cell_type": "code",
   "execution_count": null,
   "id": "4d24bbe3",
   "metadata": {},
   "outputs": [],
   "source": [
    "model_name=\"hyenadna-large-1m-seqlen-hf\"\n",
    "model=\"Hyena DNA\""
   ]
  },
  {
   "cell_type": "code",
   "execution_count": null,
   "id": "e45afb0d",
   "metadata": {},
   "outputs": [],
   "source": [
    "ctrl_counts, sig_counts, filtered_var_eu_caQTLs_df = sig_ctrl_variants_Eu_CaQTLs_probed_counts(f\"/oak/stanford/groups/akundaje/projects/dnalm_benchmark/variants/probing/{model_name}/GM12878/Eu.CaQTLS.counts.tsv\")\n",
    "hd_eur_stat, hd_eur_pval = mannwhitneyu(ctrl_counts, sig_counts, alternative=\"less\")\n",
    "hd_eur_stat, hd_eur_pval"
   ]
  },
  {
   "cell_type": "code",
   "execution_count": null,
   "id": "1370938d",
   "metadata": {},
   "outputs": [],
   "source": [
    "data = [ctrl_counts, sig_counts]\n",
    "\n",
    "# Create the boxplot\n",
    "plt.boxplot(data)\n",
    "\n",
    "# Customizing the plot\n",
    "plt.xticks([1, 2], ['Control', 'Significant']) \n",
    "plt.ylabel('Value') \n",
    "plt.title(f'Control vs. Significant for {model} Eu CaQTLs')  \n",
    "plt.show()"
   ]
  },
  {
   "cell_type": "code",
   "execution_count": null,
   "id": "d68e8dd0",
   "metadata": {},
   "outputs": [],
   "source": [
    "threshold = 3\n",
    "filtered_var_eucaqtls_df_sig = filtered_var_eu_caQTLs_df[filtered_var_eu_caQTLs_df[\"Log10_BF\"]>threshold].copy(deep=True)\n",
    "beta_logfc(filtered_var_eucaqtls_df_sig, f\"{model} European Significant caQTLs\")"
   ]
  },
  {
   "cell_type": "code",
   "execution_count": null,
   "id": "47c1f322",
   "metadata": {},
   "outputs": [],
   "source": [
    "ctrl_afr, sig_afr, filtered_var_afr_caQTLs_df = sig_ctrl_variants_Afr_CaQTLs_probed_counts(f\"/oak/stanford/groups/akundaje/projects/dnalm_benchmark/variants/probing/{model_name}/GM12878/Afr.CaQTLS.counts.tsv\")\n",
    "hd_afr_stat, hd_afr_pval = mannwhitneyu(ctrl_afr, sig_afr, alternative=\"less\")\n",
    "hd_afr_stat, hd_afr_pval"
   ]
  },
  {
   "cell_type": "code",
   "execution_count": null,
   "id": "1888be7b",
   "metadata": {},
   "outputs": [],
   "source": [
    "data = [ctrl_afr, sig_afr]\n",
    "\n",
    "# Create the boxplot\n",
    "plt.boxplot(data)\n",
    "\n",
    "# Customizing the plot\n",
    "plt.xticks([1, 2], ['Control', 'Significant']) \n",
    "plt.ylabel('Value') \n",
    "plt.title(f'Control vs. Significant for {model} Afr CaQTLs')  \n",
    "plt.show()"
   ]
  },
  {
   "cell_type": "code",
   "execution_count": null,
   "id": "66be3a03",
   "metadata": {},
   "outputs": [],
   "source": [
    "filtered_var_afrcaqtls_df_sig = filtered_var_afr_caQTLs_df[filtered_var_afr_caQTLs_df[\"label\"]==1]\n",
    "\n",
    "beta_logfc(filtered_var_afrcaqtls_df_sig, f\"{model} African Significant caQTLs\")"
   ]
  },
  {
   "cell_type": "code",
   "execution_count": null,
   "id": "3eba0d58",
   "metadata": {},
   "outputs": [],
   "source": [
    "afr_asb = variants_Afr_ASB_CaQTLs_probed_counts(f\"/oak/stanford/groups/akundaje/projects/dnalm_benchmark/variants/probing/{model_name}/GM12878/Afr.ASB.CaQTLS.counts.tsv\")\n",
    "effect_size_logfc(afr_asb, f\"{model} African ASB caQTLs\")"
   ]
  },
  {
   "cell_type": "code",
   "execution_count": null,
   "id": "26507ded",
   "metadata": {
    "scrolled": true
   },
   "outputs": [],
   "source": [
    "from tabulate import tabulate\n",
    "mydata = [\n",
    "    [\"HyenaDNA\", hd_afr_pval, hd_eur_pval],\n",
    "    [\"Dnabert2\", db_afr_pval, db_eur_pval],\n",
    "    [\"Gena LM\",glm_afr_pval, glm_eur_pval],\n",
    "    [\"Nucleotide Transformer\", nt_afr_pval, nt_eur_pval]\n",
    "]\n",
    "headers = [\"Model\", \"African P value\", \"European P value\"]\n",
    "print(tabulate(mydata, headers=headers, tablefmt=\"grid\"))"
   ]
  },
  {
   "cell_type": "code",
   "execution_count": null,
   "id": "813d85ba",
   "metadata": {},
   "outputs": [],
   "source": [
    "bins = np.linspace(0, 0.03, 100)  # Define the bins to cover the range of both datasets\n",
    "\n",
    "counts_ctrl, bins_ctrl = np.histogram(ctrl_counts, bins=bins)\n",
    "fractions_ctrol = counts_ctrl / counts_ctrl.sum()\n",
    "plt.hist(bins_ctrl[:-1], bins_ctrl, weights=fractions_ctrol, alpha=0.5, label=\"control\")\n",
    "counts_sig, bins_sig = np.histogram(sig_counts, bins=bins)\n",
    "fractions_sig = counts_sig / counts_sig.sum()\n",
    "plt.hist(bins_sig[:-1], bins_sig, weights=fractions_sig, alpha=0.5, label=\"sig\")\n",
    "plt.legend()"
   ]
  },
  {
   "cell_type": "code",
   "execution_count": null,
   "id": "d05bfa59",
   "metadata": {},
   "outputs": [],
   "source": [
    "df = pd.read_csv(f\"/oak/stanford/groups/akundaje/projects/dnalm_benchmark/variants/probing/{model_name}/GM12878/Afr.CaQTLS.counts.tsv\", sep=\"\\t\")"
   ]
  },
  {
   "cell_type": "code",
   "execution_count": null,
   "id": "5768c869",
   "metadata": {},
   "outputs": [],
   "source": [
    "used_variants = df[df[\"IsUsed\"]==True]\n",
    "np.min(used_variants[\"pval\"]), np.max(used_variants[\"pval\"])"
   ]
  },
  {
   "cell_type": "code",
   "execution_count": null,
   "id": "0da63cfd",
   "metadata": {},
   "outputs": [],
   "source": [
    "ctrl = used_variants[-np.log10(used_variants[\"pval\"]) <= 3]\n",
    "sig = used_variants[-np.log10(used_variants[\"pval\"]) > 3]"
   ]
  },
  {
   "cell_type": "code",
   "execution_count": null,
   "id": "755fc6c7",
   "metadata": {},
   "outputs": [],
   "source": [
    "if \"Beta\" in sig.columns:\n",
    "    x = sig[\"Beta\"]\n",
    "else:\n",
    "    x = sig[\"beta\"]\n",
    "y = sig[\"chrombpnet.encsr000emt.variantscore.logfc\"]\n",
    "g = sns.jointplot(x=x, y=y, \n",
    "                kind=\"scatter\")\n",
    "\n",
    "pearson_corr, _ = pearsonr(x, y)\n",
    "spearman_corr, _ = spearmanr(x, y)\n",
    "\n",
    "# Add the correlation coefficients to the plot\n",
    "plt.subplots_adjust(top=0.9)  # Adjust the top edge of the subplot to make room for the text\n",
    "plt.xlabel(\"Significant caQTL Betas\")\n",
    "# plt.ylabel()\n",
    "g.figure.suptitle(f'African CaQTLs\\nPearson: {pearson_corr:.4f} --- Spearman: {spearman_corr:.4f}', \n",
    "            x=0.5, y=0.98, ha='center')\n",
    "plt.grid()\n",
    "plt.show()"
   ]
  },
  {
   "cell_type": "code",
   "execution_count": null,
   "id": "21138dd4",
   "metadata": {},
   "outputs": [],
   "source": [
    "df = pd.read_csv(f\"/oak/stanford/groups/akundaje/projects/dnalm_benchmark/variants/probing/{model_name}/GM12878/Eu.CaQTLS.counts.tsv\", sep=\"\\t\")\n",
    "used_df = df[(df[\"Inside_Peak\"]==True) & (df[\"IsUsed\"]==True)].copy(deep=True)"
   ]
  },
  {
   "cell_type": "code",
   "execution_count": null,
   "id": "257f89d7",
   "metadata": {},
   "outputs": [],
   "source": [
    "used_df"
   ]
  },
  {
   "cell_type": "code",
   "execution_count": null,
   "id": "5fcd5e33",
   "metadata": {},
   "outputs": [],
   "source": [
    "np.min(used_df[\"Log10_BF\"]), np.max(used_df[\"Log10_BF\"])"
   ]
  },
  {
   "cell_type": "code",
   "execution_count": null,
   "id": "daf249ea",
   "metadata": {},
   "outputs": [],
   "source": [
    "ctrl = used_df[used_df[\"Log10_BF\"] < -1]"
   ]
  },
  {
   "cell_type": "code",
   "execution_count": null,
   "id": "5ca4ac0e",
   "metadata": {},
   "outputs": [],
   "source": [
    "sig = used_df[used_df[\"Log10_BF\"] > 3]"
   ]
  },
  {
   "cell_type": "code",
   "execution_count": null,
   "id": "cb0f44fb",
   "metadata": {},
   "outputs": [],
   "source": [
    "if \"Beta\" in sig.columns:\n",
    "    x = sig[\"Beta\"]\n",
    "else:\n",
    "    x = sig[\"beta\"]\n",
    "y = sig[\"ENCSR000EMT.logfc.mean\"]\n",
    "g = sns.jointplot(x=x, y=y, \n",
    "                kind=\"scatter\")\n",
    "\n",
    "pearson_corr, _ = pearsonr(x, y)\n",
    "spearman_corr, _ = spearmanr(x, y)\n",
    "\n",
    "# Add the correlation coefficients to the plot\n",
    "plt.subplots_adjust(top=0.9)  # Adjust the top edge of the subplot to make room for the text\n",
    "plt.xlabel(\"Significant caQTL Betas\")\n",
    "# plt.ylabel()\n",
    "g.figure.suptitle(f'European CaQTLs\\nPearson: {pearson_corr:.4f} --- Spearman: {spearman_corr:.4f}', \n",
    "            x=0.5, y=0.98, ha='center')\n",
    "plt.grid()\n",
    "plt.show()"
   ]
  },
  {
   "cell_type": "code",
   "execution_count": null,
   "id": "796712ba",
   "metadata": {},
   "outputs": [],
   "source": [
    "df = pd.read_csv(f\"/oak/stanford/groups/akundaje/projects/dnalm_benchmark/variants/probing/{model_name}/GM12878/Afr.CaQTLS.counts.tsv\", sep=\"\\t\")\n",
    "\n",
    "used_variants = df[df[\"IsUsed\"]==True]\n",
    "np.min(used_variants[\"pval\"]), np.max(used_variants[\"pval\"])\n",
    "\n",
    "used_variants[-np.log10(used_variants[\"pval\"]) >= 3]\n",
    "\n",
    "used_variants[-np.log10(used_variants[\"pval\"]) <= 3]\n",
    "\n",
    "ctrl = used_variants[-np.log10(used_variants[\"pval\"]) <= 3]\n",
    "sig = used_variants[-np.log10(used_variants[\"pval\"]) > 3]\n",
    "\n",
    "if \"Beta\" in sig.columns:\n",
    "    x = sig[\"Beta\"]\n",
    "else:\n",
    "    x = sig[\"beta\"]\n",
    "y = sig[\"chrombpnet.encsr000emt.variantscore.logfc\"]\n",
    "g = sns.jointplot(x=x, y=y, \n",
    "                kind=\"scatter\")\n",
    "\n",
    "pearson_corr, _ = pearsonr(x, y)\n",
    "spearman_corr, _ = spearmanr(x, y)\n",
    "\n",
    "# Add the correlation coefficients to the plot\n",
    "plt.subplots_adjust(top=0.9)  # Adjust the top edge of the subplot to make room for the text\n",
    "plt.xlabel(\"Significant caQTL Betas\")\n",
    "# plt.ylabel()\n",
    "g.figure.suptitle(f'\\nPearson: {pearson_corr:.4f} --- Spearman: {spearman_corr:.4f}', \n",
    "            x=0.5, y=0.98, ha='center')\n",
    "plt.grid()\n",
    "plt.show()"
   ]
  },
  {
   "cell_type": "code",
   "execution_count": null,
   "id": "16c921fa",
   "metadata": {},
   "outputs": [],
   "source": [
    "paths = glob.glob(\"/oak/stanford/groups/akundaje/projects/dnalm_benchmark/variants/probing/hyenadna-large-1m-seqlen-hf/GM12878/*\")"
   ]
  },
  {
   "cell_type": "code",
   "execution_count": null,
   "id": "110a4026",
   "metadata": {},
   "outputs": [],
   "source": [
    "counts_data = pd.read_csv(\"/oak/stanford/groups/akundaje/projects/dnalm_benchmark/variants/probing/DNABERT-2-117M/GM12878/Eu.CaQTLS.counts.tsv\", sep=\"\\t\")\n",
    "data = pd.read_csv(\"/oak/stanford/groups/akundaje/anusri/variant-benchmakring/Eu.CaQTLS.tsv\", sep=\"\\t\")"
   ]
  },
  {
   "cell_type": "code",
   "execution_count": null,
   "id": "561a42ac",
   "metadata": {},
   "outputs": [],
   "source": [
    "data.shape[0]"
   ]
  },
  {
   "cell_type": "code",
   "execution_count": null,
   "id": "71f6b5cf",
   "metadata": {},
   "outputs": [],
   "source": [
    "counts_data"
   ]
  },
  {
   "cell_type": "code",
   "execution_count": null,
   "id": "70f7d736",
   "metadata": {},
   "outputs": [],
   "source": [
    "threshold = np.arange(3,23,2)[0]\n",
    "threshold = 3\n",
    "filtered_var_eucaqtls = counts_data[(counts_data[\"Inside_Peak\"]==True) &\n",
    "                                          (counts_data[\"IsUsed\"]==True)].copy(deep=True)\n",
    "    \n",
    "filtered_var_eucaqtls_df_sig = filtered_var_eucaqtls[filtered_var_eucaqtls[\"Log10_BF\"]>threshold].copy(deep=True)\n",
    "filtered_var_eucaqtls_df_ctrl = filtered_var_eucaqtls[filtered_var_eucaqtls[\"Log10_BF\"]<-1].copy(deep=True)"
   ]
  },
  {
   "cell_type": "code",
   "execution_count": null,
   "id": "ea829df5",
   "metadata": {},
   "outputs": [],
   "source": [
    "data1 = np.abs(filtered_var_eucaqtls_df_ctrl[\"allele1_counts\"] - filtered_var_eucaqtls_df_ctrl[\"allele2_counts\"])\n",
    "\n",
    "counts1, bins1 = np.histogram(data1, bins=100)\n",
    "fractions1 = counts1 / counts1.sum()\n",
    "plt.hist(bins1[:-1], bins1, weights=fractions1, alpha=0.7, label=\"control\")\n",
    "\n",
    "data2 = np.abs(filtered_var_eucaqtls_df_sig[\"allele1_counts\"] - filtered_var_eucaqtls_df_sig[\"allele2_counts\"])\n",
    "counts2, bins2 = np.histogram(data2, bins=100)\n",
    "fractions2 = counts2 / counts2.sum()\n",
    "\n",
    "plt.hist(bins2[:-1], bins2, weights=fractions2, alpha=0.7, label=\"significant\")\n",
    "plt.xlabel(\"Log likelihood ratio\")\n",
    "plt.ylabel(\"Proportion of Variants\")\n",
    "plt.title(\"DNABert2 Eu CaQTLs\")\n",
    "# plt.xlim([-0.0001,0.01])\n",
    "plt.legend()\n",
    "plt.show()"
   ]
  },
  {
   "cell_type": "code",
   "execution_count": null,
   "id": "d93286b3",
   "metadata": {},
   "outputs": [],
   "source": [
    "fractions1.sum(), fractions2.sum()"
   ]
  },
  {
   "cell_type": "code",
   "execution_count": null,
   "id": "0bb33bb0",
   "metadata": {},
   "outputs": [],
   "source": [
    "data_sorted1 = np.sort(data1)  \n",
    "cdf1 = np.arange(1, len(data1) + 1) / len(data1)  \n",
    "plt.plot(data_sorted1, cdf1, marker='.', linestyle='none', alpha=0.5)\n",
    "plt.xlabel('Data points')\n",
    "plt.ylabel('CDF')\n",
    "plt.title('Cumulative Distribution Function (CDF)')\n",
    "\n",
    "data_sorted2 = np.sort(data2)  \n",
    "cdf2 = np.arange(1, len(data2) + 1) / len(data2)  \n",
    "plt.plot(data_sorted2, cdf2, marker='.', linestyle='none', alpha=0.5)\n",
    "plt.xlabel('Data points')\n",
    "plt.ylabel('CDF')\n",
    "plt.title('Cumulative Distribution Function (CDF)')\n",
    "plt.show()"
   ]
  },
  {
   "cell_type": "code",
   "execution_count": null,
   "id": "e5fbe7fe",
   "metadata": {},
   "outputs": [],
   "source": [
    "data = [data1, data2]\n",
    "\n",
    "# Create the boxplot\n",
    "plt.boxplot(data)\n",
    "\n",
    "# Customizing the plot\n",
    "plt.xticks([1, 2], ['Control', 'Significant'])  # Set custom labels for the x-axis\n",
    "plt.ylabel('Value')  # Label for the y-axis\n",
    "plt.title('Control vs. Significant for DNABert2 Eu CaQTLs')  # Title of the plot"
   ]
  }
 ],
 "metadata": {
  "kernelspec": {
   "display_name": "Python 3 (ipykernel)",
   "language": "python",
   "name": "python3"
  },
  "language_info": {
   "codemirror_mode": {
    "name": "ipython",
    "version": 3
   },
   "file_extension": ".py",
   "mimetype": "text/x-python",
   "name": "python",
   "nbconvert_exporter": "python",
   "pygments_lexer": "ipython3",
   "version": "3.9.0"
  }
 },
 "nbformat": 4,
 "nbformat_minor": 5
}
