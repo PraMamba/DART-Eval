{
 "cells": [
  {
   "cell_type": "code",
   "execution_count": 8,
   "id": "80393eab",
   "metadata": {},
   "outputs": [],
   "source": [
    "import pandas as pd\n",
    "import numpy as np\n",
    "# !pip install statsmodels\n",
    "import statsmodels\n",
    "from statsmodels.stats.proportion import proportion_confint"
   ]
  },
  {
   "cell_type": "code",
   "execution_count": 4,
   "id": "ad4893a0",
   "metadata": {},
   "outputs": [],
   "source": [
    "hyena_table = \"/oak/stanford/groups/akundaje/projects/dnalm_benchmark/evals/footprinting_350/likelihoods/hyenadna-large-1m-seqlen-hf.tsv\"\n",
    "hyena_data = pd.read_csv(hyena_table, sep=\"\\t\", index_col=0)\n",
    "\n",
    "gena_table = \"/oak/stanford/groups/akundaje/projects/dnalm_benchmark/evals/footprinting_350/likelihoods/gena-lm-bert-large-t2t.tsv\"\n",
    "gena_data = pd.read_csv(gena_table, sep=\"\\t\", index_col=0)\n",
    "\n",
    "dnabert_table = \"/oak/stanford/groups/akundaje/projects/dnalm_benchmark/evals/footprinting_350/likelihoods/DNABERT-2-117M.tsv\"\n",
    "dnabert_data = pd.read_csv(dnabert_table, sep=\"\\t\", index_col=0)\n",
    "\n",
    "nt_table = \"/oak/stanford/groups/akundaje/projects/dnalm_benchmark/evals/footprinting_350/likelihoods/nucleotide-transformer-v2-500m-multi-species.tsv\"\n",
    "nt_data = pd.read_csv(nt_table, sep=\"\\t\", index_col=0)\n"
   ]
  },
  {
   "cell_type": "code",
   "execution_count": 34,
   "id": "2bd07e63",
   "metadata": {},
   "outputs": [],
   "source": [
    "def get_cis(val_list, num_trials=200):\n",
    "    ci_tup_list = []\n",
    "    for val in val_list:\n",
    "        ci = proportion_confint(round(val * num_trials), num_trials, method=\"normal\")\n",
    "        ci_tup_list.append((val, round(ci[0], 3), round(ci[1], 3)))\n",
    "    return ci_tup_list\n"
   ]
  },
  {
   "cell_type": "code",
   "execution_count": 35,
   "id": "33c3ff4d",
   "metadata": {
    "scrolled": true
   },
   "outputs": [],
   "source": [
    "ci_agg_list = []\n",
    "for table in [hyena_data, gena_data, dnabert_data, nt_data]:\n",
    "    ci_agg_list.append(get_cis(table[\"Accuracy\"].values))"
   ]
  },
  {
   "cell_type": "code",
   "execution_count": 39,
   "id": "61ca00b3",
   "metadata": {},
   "outputs": [],
   "source": [
    "ci_table = pd.DataFrame(ci_agg_list, index=[\"HyenaDNA\", \"GENA-LM\", \"DNABERT-2\", \"Nucleotide Transformer\"], columns=nt_data.index).T\n",
    "\n"
   ]
  },
  {
   "cell_type": "code",
   "execution_count": 41,
   "id": "fa62bb93",
   "metadata": {},
   "outputs": [],
   "source": [
    "out_file = \"/oak/stanford/groups/akundaje/projects/dnalm_benchmark/evals/footprinting_350/likelihoods/confidence_intervals.tsv\"\n",
    "\n",
    "ci_table.to_csv(out_file, sep=\"\\t\", index=True, header=True)\n"
   ]
  },
  {
   "cell_type": "code",
   "execution_count": null,
   "id": "ca4b2f2b",
   "metadata": {},
   "outputs": [],
   "source": []
  }
 ],
 "metadata": {
  "kernelspec": {
   "display_name": "Python 3",
   "language": "python",
   "name": "python3"
  },
  "language_info": {
   "codemirror_mode": {
    "name": "ipython",
    "version": 3
   },
   "file_extension": ".py",
   "mimetype": "text/x-python",
   "name": "python",
   "nbconvert_exporter": "python",
   "pygments_lexer": "ipython3",
   "version": "3.9.0"
  }
 },
 "nbformat": 4,
 "nbformat_minor": 5
}
